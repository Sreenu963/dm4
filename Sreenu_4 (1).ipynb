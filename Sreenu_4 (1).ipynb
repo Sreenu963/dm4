{
 "cells": [
  {
   "cell_type": "code",
   "execution_count": 1,
   "id": "ea4e439e-2c9e-4315-9e0a-fea66c4e9cfe",
   "metadata": {},
   "outputs": [],
   "source": [
    "import os\n",
    "import numpy as np\n",
    "import pandas as pd\n",
    "from skimage import io,color\n",
    "from skimage import filters\n",
    "from skimage import exposure\n",
    "from sklearn.decomposition import PCA\n",
    "from sklearn.cluster import BisectingKMeans\n",
    "from sklearn.cluster import SpectralClustering,AgglomerativeClustering,DBSCAN\n",
    "import warnings\n",
    "warnings.filterwarnings(\"ignore\")"
   ]
  },
  {
   "cell_type": "code",
   "execution_count": 2,
   "id": "fe102a1f-e90f-44a0-a526-438d84329a02",
   "metadata": {},
   "outputs": [],
   "source": [
    "Dog_images = r'Sreenu_images'"
   ]
  },
  {
   "cell_type": "code",
   "execution_count": 3,
   "id": "41e19cca-1909-4bca-8481-c7fc3122fb35",
   "metadata": {},
   "outputs": [],
   "source": [
    "#Image edge histogram conversion and normalize"
   ]
  },
  {
   "cell_type": "code",
   "execution_count": 4,
   "id": "c577fedd-8582-407d-934f-e6179ad5d6e3",
   "metadata": {},
   "outputs": [],
   "source": [
    "#as specified in assignment 2\n",
    "def angle(dx, dy):\n",
    "    return np.mod(np.arctan2(dy, dx), np.pi)\n",
    "\n",
    "dog_hist = []\n",
    "dog_breeds     = []\n",
    "for index,breed_name in enumerate(os.listdir(Dog_images)):\n",
    "    path=os.path.join(Dog_images,breed_name)\n",
    "    for image_file in os.listdir(path):\n",
    "        image    = io.imread(os.path.join(path,image_file.strip()))\n",
    "        image=color.rgb2gray(image)\n",
    "        image = angle(filters.sobel_h(image),filters.sobel_v(image))\n",
    "        hist,_=exposure.histogram(image, nbins=36)\n",
    "        dog_hist.append(hist/np.sum(hist))\n",
    "        dog_breeds.append(index)\n",
    "dog_hist=np.array(dog_hist)\n",
    "dog_breeds=np.array(dog_breeds)"
   ]
  },
  {
   "cell_type": "code",
   "execution_count": 5,
   "id": "78361974-bc05-48fb-b111-e9be1973e54c",
   "metadata": {},
   "outputs": [],
   "source": [
    "# dimensionality reduction using PCA as per assignment 1\n",
    "pca_algorithm=PCA(n_components=2)\n",
    "#conversion\n",
    "dog_hist=pca_algorithm.fit_transform(dog_hist)"
   ]
  },
  {
   "cell_type": "code",
   "execution_count": 6,
   "id": "90bb38bd-7122-4ed4-a2e4-94d7402015f7",
   "metadata": {},
   "outputs": [],
   "source": [
    "import pandas as pd\n",
    "from sklearn.cluster import KMeans\n",
    "from sklearn.metrics import fowlkes_mallows_score, silhouette_score\n",
    "\n",
    "# Create an empty DataFrame\n",
    "m = {'algorithm':[], 'fowlkes_score':[], 'silhouette_score':[]}\n",
    "eval_scores = pd.DataFrame(m)\n",
    "kmeans_random = KMeans(n_clusters=4, random_state=42, init=\"random\").fit(dog_hist)\n",
    "# Calculate evaluation scores and append to the DataFrame\n",
    "eval_scores = pd.concat([eval_scores, pd.DataFrame({\n",
    "    'algorithm': ['random'],\n",
    "    'fowlkes_score': [fowlkes_mallows_score(dog_breeds, kmeans_random.labels_)],\n",
    "    'silhouette_score': [silhouette_score(dog_hist, kmeans_random.labels_)]\n",
    "})], ignore_index=True)"
   ]
  },
  {
   "cell_type": "code",
   "execution_count": 7,
   "id": "6311da7b",
   "metadata": {},
   "outputs": [
    {
     "name": "stdout",
     "output_type": "stream",
     "text": [
      "<class 'pandas.core.frame.DataFrame'>\n"
     ]
    }
   ],
   "source": [
    "print(type(eval_scores))"
   ]
  },
  {
   "cell_type": "code",
   "execution_count": 8,
   "id": "f25ab5e2-ca00-4274-9d30-eb0f8da55267",
   "metadata": {},
   "outputs": [],
   "source": [
    "# Initialize and fit KMeans with k-means++ initialization\n",
    "kmeans_plusplus = KMeans(n_clusters=4, random_state=42, init=\"k-means++\").fit(dog_hist)\n",
    "\n",
    "# Calculate evaluation scores and append to the DataFrame\n",
    "eval_scores = pd.concat([eval_scores, pd.DataFrame({\n",
    "    'algorithm': ['k-means++'],\n",
    "    'fowlkes_score': [fowlkes_mallows_score(dog_breeds, \n",
    "kmeans_plusplus.labels_)],\n",
    "    'silhouette_score': [silhouette_score(dog_hist, \n",
    "kmeans_plusplus.labels_)]\n",
    "})], ignore_index=True)\n",
    "\n"
   ]
  },
  {
   "cell_type": "code",
   "execution_count": 9,
   "id": "8f80b64c-9e7e-4f5f-9213-ac2a33f863c5",
   "metadata": {},
   "outputs": [],
   "source": [
    "# Assuming you've imported BisectingKMeans correctly\n",
    "\n",
    "# Initialize and fit Bisecting KMeans\n",
    "bise = BisectingKMeans(n_clusters=4, random_state=42, init=\"random\").fit(dog_hist)\n",
    "\n",
    "eval_scores = pd.concat([eval_scores, pd.DataFrame({\n",
    "    'algorithm': ['bisecting means'],\n",
    "    'fowlkes_score': [fowlkes_mallows_score(dog_breeds, bise.labels_)],\n",
    "    'silhouette_score': [silhouette_score(dog_hist, bise.labels_)]\n",
    "})], ignore_index=True)\n",
    "\n"
   ]
  },
  {
   "cell_type": "code",
   "execution_count": 10,
   "id": "a225f516-cc77-416f-ab8c-67c454d23bbc",
   "metadata": {},
   "outputs": [],
   "source": [
    "# Initialize and fit Spectral Clustering\n",
    "spc = SpectralClustering(n_clusters=4).fit(dog_hist)\n",
    "\n",
    "new_eval_scores = pd.DataFrame({\n",
    "    'algorithm': ['spectral'],\n",
    "    'fowlkes_score': [fowlkes_mallows_score(dog_breeds, spc.labels_)],\n",
    "    'silhouette_score': [silhouette_score(dog_hist, spc.labels_)]\n",
    "})\n",
    "\n",
    "# Concatenate the new evaluation scores with the existing DataFrame\n",
    "eval_scores = pd.concat([eval_scores, new_eval_scores], ignore_index=True)\n",
    "\n"
   ]
  },
  {
   "cell_type": "code",
   "execution_count": 11,
   "id": "5bf16ef5-332e-473e-a22d-c1b71d2a6c82",
   "metadata": {},
   "outputs": [],
   "source": [
    "# Initialize and fit DBSCAN\n",
    "dbscan = DBSCAN(eps=0.03, min_samples=2).fit(dog_hist)\n",
    "\n",
    "\n",
    "new_eval_scores = pd.DataFrame({\n",
    "    'algorithm': ['dbscan'],\n",
    "    'fowlkes_score': [fowlkes_mallows_score(dog_breeds, dbscan.labels_)],\n",
    "    'silhouette_score': [silhouette_score(dog_hist, dbscan.labels_) if -1 in dbscan.labels_ else \"Not applicable\"]\n",
    "})\n",
    "\n",
    "# Concatenate the new evaluation scores with the existing DataFrame\n",
    "eval_scores = pd.concat([eval_scores, new_eval_scores], ignore_index=True)"
   ]
  },
  {
   "cell_type": "markdown",
   "id": "00d75e1c-2cdc-45cf-a810-072da8c0606a",
   "metadata": {},
   "source": [
    "## eps =0.03 and min_samples =2 to generate 4 clusters"
   ]
  },
  {
   "cell_type": "code",
   "execution_count": 12,
   "id": "bb3c824f-946f-403c-a0ff-69bd5052ed7f",
   "metadata": {},
   "outputs": [],
   "source": [
    "# Fit Agglomerative Clustering with single linkage\n",
    "aggsingle = AgglomerativeClustering(n_clusters=4, linkage='single').fit(dog_hist)\n",
    "\n",
    "\n",
    "new_eval_scores = pd.DataFrame({\n",
    "    'algorithm': ['single'],\n",
    "    'fowlkes_score': [fowlkes_mallows_score(dog_breeds, aggsingle.labels_)],\n",
    "    'silhouette_score': [silhouette_score(dog_hist, aggsingle.labels_)]\n",
    "})\n",
    "\n",
    "# Concatenate the new evaluation scores with the existing DataFrame\n",
    "eval_scores = pd.concat([eval_scores, new_eval_scores], ignore_index=True)\n"
   ]
  },
  {
   "cell_type": "code",
   "execution_count": 13,
   "id": "ff5ffd01-fade-4da7-b8d5-c1dd1849962c",
   "metadata": {},
   "outputs": [],
   "source": [
    "aggcomplete = AgglomerativeClustering(n_clusters=4, linkage='complete').fit(dog_hist)\n",
    "\n",
    "# Create a DataFrame for the current evaluation scores\n",
    "new_eval_scores = pd.DataFrame({\n",
    "    'algorithm': ['complete'],\n",
    "    'fowlkes_score': [fowlkes_mallows_score(dog_breeds, aggcomplete.labels_)],\n",
    "    'silhouette_score': [silhouette_score(dog_hist, aggcomplete.labels_)]\n",
    "})\n",
    "\n",
    "# Concatenate the new evaluation scores with the existing DataFrame\n",
    "eval_scores = pd.concat([eval_scores, new_eval_scores], ignore_index=True)\n"
   ]
  },
  {
   "cell_type": "code",
   "execution_count": 14,
   "id": "c90f0bf5-b657-41e6-8263-c8912bfa5126",
   "metadata": {},
   "outputs": [],
   "source": [
    "aggaverage = AgglomerativeClustering(n_clusters=4, linkage='average').fit(dog_hist)\n",
    "\n",
    "# Create a DataFrame for the current evaluation scores\n",
    "new_eval_scores = pd.DataFrame({\n",
    "    'algorithm': ['average'],\n",
    "    'fowlkes_score': [fowlkes_mallows_score(dog_breeds, aggaverage.labels_)],\n",
    "    'silhouette_score': [silhouette_score(dog_hist, aggaverage.labels_)]\n",
    "})\n",
    "\n",
    "# Concatenate the new evaluation scores with the existing DataFrame\n",
    "eval_scores = pd.concat([eval_scores, new_eval_scores], ignore_index=True)\n"
   ]
  },
  {
   "cell_type": "code",
   "execution_count": 15,
   "id": "ce7441af-e0e7-431e-8015-a9152114f364",
   "metadata": {},
   "outputs": [],
   "source": [
    "aggward = AgglomerativeClustering(n_clusters=4, linkage='ward').fit(dog_hist)\n",
    "\n",
    "# Create a DataFrame for the current evaluation scores\n",
    "new_eval_scores = pd.DataFrame({\n",
    "    'algorithm': ['ward'],\n",
    "    'fowlkes_score': [fowlkes_mallows_score(dog_breeds, aggward.labels_)],\n",
    "    'silhouette_score': [silhouette_score(dog_hist, aggward.labels_)]\n",
    "})\n",
    "\n",
    "# Concatenate the new evaluation scores with the existing DataFrame\n",
    "eval_scores = pd.concat([eval_scores, new_eval_scores], ignore_index=True)\n"
   ]
  },
  {
   "cell_type": "code",
   "execution_count": 16,
   "id": "3d9a5cf4",
   "metadata": {},
   "outputs": [],
   "source": [
    "eval_scores = eval_scores.drop_duplicates()"
   ]
  },
  {
   "cell_type": "code",
   "execution_count": 17,
   "id": "aed65cb5-3158-4e4c-a9ee-dea39504917e",
   "metadata": {},
   "outputs": [
    {
     "data": {
      "text/html": [
       "<div>\n",
       "<style scoped>\n",
       "    .dataframe tbody tr th:only-of-type {\n",
       "        vertical-align: middle;\n",
       "    }\n",
       "\n",
       "    .dataframe tbody tr th {\n",
       "        vertical-align: top;\n",
       "    }\n",
       "\n",
       "    .dataframe thead th {\n",
       "        text-align: right;\n",
       "    }\n",
       "</style>\n",
       "<table border=\"1\" class=\"dataframe\">\n",
       "  <thead>\n",
       "    <tr style=\"text-align: right;\">\n",
       "      <th></th>\n",
       "      <th>algorithm</th>\n",
       "      <th>fowlkes_score</th>\n",
       "      <th>silhouette_score</th>\n",
       "    </tr>\n",
       "  </thead>\n",
       "  <tbody>\n",
       "    <tr>\n",
       "      <th>0</th>\n",
       "      <td>random</td>\n",
       "      <td>0.308929</td>\n",
       "      <td>0.395957</td>\n",
       "    </tr>\n",
       "    <tr>\n",
       "      <th>1</th>\n",
       "      <td>k-means++</td>\n",
       "      <td>0.310482</td>\n",
       "      <td>0.393838</td>\n",
       "    </tr>\n",
       "    <tr>\n",
       "      <th>2</th>\n",
       "      <td>bisecting means</td>\n",
       "      <td>0.323851</td>\n",
       "      <td>0.367088</td>\n",
       "    </tr>\n",
       "    <tr>\n",
       "      <th>3</th>\n",
       "      <td>spectral</td>\n",
       "      <td>0.353100</td>\n",
       "      <td>-0.035180</td>\n",
       "    </tr>\n",
       "    <tr>\n",
       "      <th>4</th>\n",
       "      <td>dbscan</td>\n",
       "      <td>0.501188</td>\n",
       "      <td>0.708168</td>\n",
       "    </tr>\n",
       "    <tr>\n",
       "      <th>5</th>\n",
       "      <td>single</td>\n",
       "      <td>0.499856</td>\n",
       "      <td>0.701080</td>\n",
       "    </tr>\n",
       "    <tr>\n",
       "      <th>6</th>\n",
       "      <td>complete</td>\n",
       "      <td>0.407996</td>\n",
       "      <td>0.316655</td>\n",
       "    </tr>\n",
       "    <tr>\n",
       "      <th>7</th>\n",
       "      <td>average</td>\n",
       "      <td>0.491786</td>\n",
       "      <td>0.616372</td>\n",
       "    </tr>\n",
       "    <tr>\n",
       "      <th>8</th>\n",
       "      <td>ward</td>\n",
       "      <td>0.310739</td>\n",
       "      <td>0.354997</td>\n",
       "    </tr>\n",
       "  </tbody>\n",
       "</table>\n",
       "</div>"
      ],
      "text/plain": [
       "         algorithm  fowlkes_score  silhouette_score\n",
       "0           random       0.308929          0.395957\n",
       "1        k-means++       0.310482          0.393838\n",
       "2  bisecting means       0.323851          0.367088\n",
       "3         spectral       0.353100         -0.035180\n",
       "4           dbscan       0.501188          0.708168\n",
       "5           single       0.499856          0.701080\n",
       "6         complete       0.407996          0.316655\n",
       "7          average       0.491786          0.616372\n",
       "8             ward       0.310739          0.354997"
      ]
     },
     "execution_count": 17,
     "metadata": {},
     "output_type": "execute_result"
    }
   ],
   "source": [
    "eval_scores"
   ]
  },
  {
   "cell_type": "markdown",
   "id": "039e700b-a487-461b-b053-09456eab4597",
   "metadata": {},
   "source": [
    "## best to worst \n"
   ]
  },
  {
   "cell_type": "code",
   "execution_count": 18,
   "id": "bbb1437f-6ef7-4589-867e-debb423061b3",
   "metadata": {},
   "outputs": [
    {
     "data": {
      "text/plain": [
       "4             dbscan\n",
       "5             single\n",
       "7            average\n",
       "6           complete\n",
       "3           spectral\n",
       "2    bisecting means\n",
       "8               ward\n",
       "1          k-means++\n",
       "0             random\n",
       "Name: algorithm, dtype: object"
      ]
     },
     "execution_count": 18,
     "metadata": {},
     "output_type": "execute_result"
    }
   ],
   "source": [
    "# fowlkes mallows index \n",
    "eval_scores.sort_values(by='fowlkes_score', ascending=False)['algorithm']"
   ]
  },
  {
   "cell_type": "code",
   "execution_count": 19,
   "id": "adf32138-3b55-4f34-97b2-7904162699ea",
   "metadata": {},
   "outputs": [
    {
     "data": {
      "text/plain": [
       "4             dbscan\n",
       "5             single\n",
       "7            average\n",
       "0             random\n",
       "1          k-means++\n",
       "2    bisecting means\n",
       "8               ward\n",
       "6           complete\n",
       "3           spectral\n",
       "Name: algorithm, dtype: object"
      ]
     },
     "execution_count": 19,
     "metadata": {},
     "output_type": "execute_result"
    }
   ],
   "source": [
    "# silhouette coefficient \n",
    "eval_scores.sort_values(by='silhouette_score', ascending=False)['algorithm']"
   ]
  },
  {
   "cell_type": "markdown",
   "id": "6c7d5abd-8575-41a9-b7e6-6592f557c15e",
   "metadata": {},
   "source": [
    "reference : https://scikit-learn.org/stable/modules/clustering.html"
   ]
  },
  {
   "cell_type": "code",
   "execution_count": null,
   "id": "c4ee9c58-c6d2-43fb-8c79-81a6ab74d13e",
   "metadata": {},
   "outputs": [],
   "source": []
  }
 ],
 "metadata": {
  "kernelspec": {
   "display_name": "Python 3 (ipykernel)",
   "language": "python",
   "name": "python3"
  },
  "language_info": {
   "codemirror_mode": {
    "name": "ipython",
    "version": 3
   },
   "file_extension": ".py",
   "mimetype": "text/x-python",
   "name": "python",
   "nbconvert_exporter": "python",
   "pygments_lexer": "ipython3",
   "version": "3.11.5"
  }
 },
 "nbformat": 4,
 "nbformat_minor": 5
}
